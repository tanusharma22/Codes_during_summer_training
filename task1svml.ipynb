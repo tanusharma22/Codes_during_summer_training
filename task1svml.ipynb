{
  "nbformat": 4,
  "nbformat_minor": 0,
  "metadata": {
    "colab": {
      "name": "task1svml.ipynb",
      "version": "0.3.2",
      "provenance": [],
      "collapsed_sections": [],
      "include_colab_link": true
    },
    "kernelspec": {
      "name": "python3",
      "display_name": "Python 3"
    }
  },
  "cells": [
    {
      "cell_type": "markdown",
      "metadata": {
        "id": "view-in-github",
        "colab_type": "text"
      },
      "source": [
        "<a href=\"https://colab.research.google.com/github/tanusharma22/tt/blob/machinelearning/task1svml.ipynb\" target=\"_parent\"><img src=\"https://colab.research.google.com/assets/colab-badge.svg\" alt=\"Open In Colab\"/></a>"
      ]
    },
    {
      "cell_type": "code",
      "metadata": {
        "id": "aY1-Bdf9wOW6",
        "colab_type": "code",
        "colab": {}
      },
      "source": [
        "import pandas as pd\n"
      ],
      "execution_count": 0,
      "outputs": []
    },
    {
      "cell_type": "markdown",
      "metadata": {
        "id": "A_OOLqI8hI0o",
        "colab_type": "text"
      },
      "source": [
        "**Reading all the files**"
      ]
    },
    {
      "cell_type": "code",
      "metadata": {
        "id": "NIARgqZpxU8s",
        "colab_type": "code",
        "colab": {}
      },
      "source": [
        "train=pd.read_csv('train.csv')\n",
        "test=pd.read_csv('test.csv')\n",
        "accuracy_checker=pd.read_csv('gender_submission.csv')"
      ],
      "execution_count": 0,
      "outputs": []
    },
    {
      "cell_type": "code",
      "metadata": {
        "id": "bYTxv53Zppx1",
        "colab_type": "code",
        "colab": {}
      },
      "source": [
        "#delete unnecessay feature from datasets\n",
        "train.drop('Name',axis=1,inplace=True)\n",
        "test.drop('Name',axis=1,inplace=True)"
      ],
      "execution_count": 0,
      "outputs": []
    },
    {
      "cell_type": "markdown",
      "metadata": {
        "id": "xiaQrXzchZ2Y",
        "colab_type": "text"
      },
      "source": [
        ""
      ]
    },
    {
      "cell_type": "code",
      "metadata": {
        "id": "eKuI7j4KMvOL",
        "colab_type": "code",
        "colab": {}
      },
      "source": [
        "#selecting features\n",
        "feature_titanic=train.iloc[:,[2,3,4,5,6,8]].values"
      ],
      "execution_count": 0,
      "outputs": []
    },
    {
      "cell_type": "code",
      "metadata": {
        "id": "OKj8jYgp8jDA",
        "colab_type": "code",
        "colab": {}
      },
      "source": [
        "from sklearn.preprocessing import LabelEncoder"
      ],
      "execution_count": 0,
      "outputs": []
    },
    {
      "cell_type": "code",
      "metadata": {
        "id": "7kenhHV49If4",
        "colab_type": "code",
        "colab": {}
      },
      "source": [
        "#string label int/float\n",
        "se=LabelEncoder()"
      ],
      "execution_count": 0,
      "outputs": []
    },
    {
      "cell_type": "code",
      "metadata": {
        "id": "N9XV8wia9RUF",
        "colab_type": "code",
        "colab": {}
      },
      "source": [
        "#now apply coloumn second in this Labelen\n",
        "feature_titanic[:,1]=se.fit_transform(feature_titanic[:,1])"
      ],
      "execution_count": 0,
      "outputs": []
    },
    {
      "cell_type": "code",
      "metadata": {
        "id": "aetquUJN-j7m",
        "colab_type": "code",
        "colab": {}
      },
      "source": [
        "#removing missing values or replacing missing value with some relevant data\n",
        "from sklearn.preprocessing import Imputer"
      ],
      "execution_count": 0,
      "outputs": []
    },
    {
      "cell_type": "code",
      "metadata": {
        "id": "OsLGh82fPsJ6",
        "colab_type": "code",
        "outputId": "048da465-440f-4e7c-cdcd-69941dd3a0f4",
        "colab": {
          "base_uri": "https://localhost:8080/",
          "height": 70
        }
      },
      "source": [
        "imp=Imputer(missing_values='NaN',axis=0,strategy='mean')"
      ],
      "execution_count": 0,
      "outputs": [
        {
          "output_type": "stream",
          "text": [
            "/usr/local/lib/python3.6/dist-packages/sklearn/utils/deprecation.py:66: DeprecationWarning: Class Imputer is deprecated; Imputer was deprecated in version 0.20 and will be removed in 0.22. Import impute.SimpleImputer from sklearn instead.\n",
            "  warnings.warn(msg, category=DeprecationWarning)\n"
          ],
          "name": "stderr"
        }
      ]
    },
    {
      "cell_type": "code",
      "metadata": {
        "id": "8JoE2wAAQE4v",
        "colab_type": "code",
        "colab": {}
      },
      "source": [
        "impt=imp.fit(feature_titanic[:,[2]])"
      ],
      "execution_count": 0,
      "outputs": []
    },
    {
      "cell_type": "code",
      "metadata": {
        "id": "UD8EU3B8Rr1H",
        "colab_type": "code",
        "colab": {}
      },
      "source": [
        "\n",
        "\n",
        "feature_titanic[:,[2]]=impt.transform(feature_titanic[:,[2]])"
      ],
      "execution_count": 0,
      "outputs": []
    },
    {
      "cell_type": "code",
      "metadata": {
        "id": "qjBMhtB2SGyr",
        "colab_type": "code",
        "outputId": "4c3f8c82-7cfe-4bcb-cbf2-62afd7d45bda",
        "colab": {
          "base_uri": "https://localhost:8080/",
          "height": 134
        }
      },
      "source": [
        "feature_titanic.astype(int)"
      ],
      "execution_count": 0,
      "outputs": [
        {
          "output_type": "execute_result",
          "data": {
            "text/plain": [
              "array([[ 3,  1, 22,  1,  0,  7],\n",
              "       [ 1,  0, 38,  1,  0, 71],\n",
              "       [ 3,  0, 26,  0,  0,  7],\n",
              "       ...,\n",
              "       [ 3,  0, 29,  1,  2, 23],\n",
              "       [ 1,  1, 26,  0,  0, 30],\n",
              "       [ 3,  1, 32,  0,  0,  7]])"
            ]
          },
          "metadata": {
            "tags": []
          },
          "execution_count": 77
        }
      ]
    },
    {
      "cell_type": "code",
      "metadata": {
        "id": "fmV_WZy-B1Nm",
        "colab_type": "code",
        "colab": {}
      },
      "source": [
        "label=train.iloc[:,[1]]"
      ],
      "execution_count": 0,
      "outputs": []
    },
    {
      "cell_type": "code",
      "metadata": {
        "id": "skY4vS5vPrJL",
        "colab_type": "code",
        "colab": {}
      },
      "source": [
        "#using classifier for training model\n",
        "from sklearn.tree import DecisionTreeClassifier"
      ],
      "execution_count": 0,
      "outputs": []
    },
    {
      "cell_type": "code",
      "metadata": {
        "id": "ZadlAtOk9T3F",
        "colab_type": "code",
        "colab": {}
      },
      "source": [
        "dtc=DecisionTreeClassifier()"
      ],
      "execution_count": 0,
      "outputs": []
    },
    {
      "cell_type": "code",
      "metadata": {
        "id": "5ZFrRc8_-L1A",
        "colab_type": "code",
        "colab": {}
      },
      "source": [
        "trained=dtc.fit(feature_titanic,label)"
      ],
      "execution_count": 0,
      "outputs": []
    },
    {
      "cell_type": "code",
      "metadata": {
        "id": "1gdmTd88Vtwe",
        "colab_type": "code",
        "colab": {}
      },
      "source": [
        "#importing data from test file\n",
        "Test=test.iloc[:,[1,2,3,4,5,7]].values"
      ],
      "execution_count": 0,
      "outputs": []
    },
    {
      "cell_type": "code",
      "metadata": {
        "id": "ZSuiXqH9XoKq",
        "colab_type": "code",
        "colab": {}
      },
      "source": [
        "#string label int/float\n",
        "\n",
        "from sklearn.preprocessing import LabelEncoder\n",
        "sete=LabelEncoder()"
      ],
      "execution_count": 0,
      "outputs": []
    },
    {
      "cell_type": "code",
      "metadata": {
        "id": "48alWJndYD9F",
        "colab_type": "code",
        "colab": {}
      },
      "source": [
        "Test[:,1]=sete.fit_transform(Test[:,1])"
      ],
      "execution_count": 0,
      "outputs": []
    },
    {
      "cell_type": "code",
      "metadata": {
        "id": "GsRfcMraYt_1",
        "colab_type": "code",
        "colab": {}
      },
      "source": [
        "#removing missing values or replacing missing value with some relevant data\n",
        "imptt=imp.fit(Test[:,[2]])"
      ],
      "execution_count": 0,
      "outputs": []
    },
    {
      "cell_type": "code",
      "metadata": {
        "id": "22V-zcBOaa6h",
        "colab_type": "code",
        "colab": {}
      },
      "source": [
        "\n",
        "Test[:,[2]]=imptt.transform(Test[:,[2]])"
      ],
      "execution_count": 0,
      "outputs": []
    },
    {
      "cell_type": "code",
      "metadata": {
        "id": "b8TH88tobzWl",
        "colab_type": "code",
        "colab": {}
      },
      "source": [
        "imptr=imp.fit(Test[:,[5]])\n",
        "Test[:,[5]]=imptt.transform(Test[:,[5]])"
      ],
      "execution_count": 0,
      "outputs": []
    },
    {
      "cell_type": "code",
      "metadata": {
        "id": "XAJZMblwbyJa",
        "colab_type": "code",
        "outputId": "be8cee88-ce90-4902-ab7b-6d06887e90d6",
        "colab": {
          "base_uri": "https://localhost:8080/",
          "height": 134
        }
      },
      "source": [
        "Test.astype(int)"
      ],
      "execution_count": 0,
      "outputs": [
        {
          "output_type": "execute_result",
          "data": {
            "text/plain": [
              "array([[ 3,  1, 34,  0,  0,  7],\n",
              "       [ 3,  0, 47,  1,  0,  7],\n",
              "       [ 2,  1, 62,  0,  0,  9],\n",
              "       ...,\n",
              "       [ 3,  1, 38,  0,  0,  7],\n",
              "       [ 3,  1, 30,  0,  0,  8],\n",
              "       [ 3,  1, 30,  1,  1, 22]])"
            ]
          },
          "metadata": {
            "tags": []
          },
          "execution_count": 88
        }
      ]
    },
    {
      "cell_type": "code",
      "metadata": {
        "id": "Ne5EgZl7bdyk",
        "colab_type": "code",
        "colab": {}
      },
      "source": [
        "prediction=trained.predict(Test)"
      ],
      "execution_count": 0,
      "outputs": []
    },
    {
      "cell_type": "code",
      "metadata": {
        "id": "EhkDmjgkfQrV",
        "colab_type": "code",
        "colab": {}
      },
      "source": [
        "from sklearn.metrics import accuracy_score"
      ],
      "execution_count": 0,
      "outputs": []
    },
    {
      "cell_type": "code",
      "metadata": {
        "id": "T_z2oMU4bl3-",
        "colab_type": "code",
        "outputId": "1142f136-d2bb-44a4-a3bb-27be35cfa6e0",
        "colab": {
          "base_uri": "https://localhost:8080/",
          "height": 34
        }
      },
      "source": [
        "#checking accuracy\n",
        "checker=accuracy_checker.Survived\n",
        "accuracy_score(prediction,checker)"
      ],
      "execution_count": 0,
      "outputs": [
        {
          "output_type": "execute_result",
          "data": {
            "text/plain": [
              "0.8110047846889952"
            ]
          },
          "metadata": {
            "tags": []
          },
          "execution_count": 91
        }
      ]
    },
    {
      "cell_type": "code",
      "metadata": {
        "id": "cqsCu1wSfNqE",
        "colab_type": "code",
        "outputId": "a20a3bc5-d1cd-4be7-c99b-6a05ccf8049f",
        "colab": {
          "base_uri": "https://localhost:8080/",
          "height": 34
        }
      },
      "source": [
        "mindeath=0\n",
        "for i in prediction:\n",
        "  if i ==1 :\n",
        "    mindeath+=1\n",
        "print(\"Minimum Death Predicted:\",mindeath)"
      ],
      "execution_count": 0,
      "outputs": [
        {
          "output_type": "stream",
          "text": [
            "Minimum Death Predicted: 151\n"
          ],
          "name": "stdout"
        }
      ]
    }
  ]
}