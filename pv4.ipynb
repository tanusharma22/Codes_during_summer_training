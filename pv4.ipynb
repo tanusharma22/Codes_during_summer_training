{
  "nbformat": 4,
  "nbformat_minor": 0,
  "metadata": {
    "colab": {
      "name": "pv4.ipynb",
      "version": "0.3.2",
      "provenance": [],
      "collapsed_sections": [],
      "include_colab_link": true
    },
    "kernelspec": {
      "name": "python3",
      "display_name": "Python 3"
    }
  },
  "cells": [
    {
      "cell_type": "markdown",
      "metadata": {
        "id": "view-in-github",
        "colab_type": "text"
      },
      "source": [
        "<a href=\"https://colab.research.google.com/github/tanusharma22/tt/blob/master/pv4.ipynb\" target=\"_parent\"><img src=\"https://colab.research.google.com/assets/colab-badge.svg\" alt=\"Open In Colab\"/></a>"
      ]
    },
    {
      "cell_type": "code",
      "metadata": {
        "id": "JIIO8Jibwgtx",
        "colab_type": "code",
        "colab": {}
      },
      "source": [
        "import numpy as np\n",
        "import matplotlib.pyplot as plt"
      ],
      "execution_count": 0,
      "outputs": []
    },
    {
      "cell_type": "code",
      "metadata": {
        "id": "gfIkbDAUw1gz",
        "colab_type": "code",
        "colab": {}
      },
      "source": [
        "str='Machine learning (ML) is the scientific study of algorithms and statistical models that computer systems use in order to perform a specific task effectively without using explicit instructions, relying on patterns and inference instead. It is seen as a subset of artificial intelligence. Machine learning algorithms build a mathematical model based on sample data, known as \"training data\", in order to make predictions or decisions without being explicitly programmed to perform the task.[1][2]:2 Machine learning algorithms are used in a wide variety of applications, such as email filtering, and computer vision, where it is infeasible to develop an algorithm of specific instructions for performing the task. Machine learning is closely related to computational statistics, which focuses on making predictions using computers. The study of mathematical optimization delivers methods, theory and application domains to the field of machine learning. Data mining is a field of study within machine learning, and focuses on exploratory data analysis through unsupervised learning.[3][4] In its application across business problems, machine learning is also referred to as predictive analytics'\n",
        "\n",
        "lis=str.split()"
      ],
      "execution_count": 0,
      "outputs": []
    },
    {
      "cell_type": "code",
      "metadata": {
        "id": "B06NkVtxxeeT",
        "colab_type": "code",
        "outputId": "53684f9b-cad8-430e-a4a2-240abf95b940",
        "colab": {
          "base_uri": "https://localhost:8080/",
          "height": 3005
        }
      },
      "source": [
        "lis\n"
      ],
      "execution_count": 0,
      "outputs": [
        {
          "output_type": "execute_result",
          "data": {
            "text/plain": [
              "['Machine',\n",
              " 'learning',\n",
              " '(ML)',\n",
              " 'is',\n",
              " 'the',\n",
              " 'scientific',\n",
              " 'study',\n",
              " 'of',\n",
              " 'algorithms',\n",
              " 'and',\n",
              " 'statistical',\n",
              " 'models',\n",
              " 'that',\n",
              " 'computer',\n",
              " 'systems',\n",
              " 'use',\n",
              " 'in',\n",
              " 'order',\n",
              " 'to',\n",
              " 'perform',\n",
              " 'a',\n",
              " 'specific',\n",
              " 'task',\n",
              " 'effectively',\n",
              " 'without',\n",
              " 'using',\n",
              " 'explicit',\n",
              " 'instructions,',\n",
              " 'relying',\n",
              " 'on',\n",
              " 'patterns',\n",
              " 'and',\n",
              " 'inference',\n",
              " 'instead.',\n",
              " 'It',\n",
              " 'is',\n",
              " 'seen',\n",
              " 'as',\n",
              " 'a',\n",
              " 'subset',\n",
              " 'of',\n",
              " 'artificial',\n",
              " 'intelligence.',\n",
              " 'Machine',\n",
              " 'learning',\n",
              " 'algorithms',\n",
              " 'build',\n",
              " 'a',\n",
              " 'mathematical',\n",
              " 'model',\n",
              " 'based',\n",
              " 'on',\n",
              " 'sample',\n",
              " 'data,',\n",
              " 'known',\n",
              " 'as',\n",
              " '\"training',\n",
              " 'data\",',\n",
              " 'in',\n",
              " 'order',\n",
              " 'to',\n",
              " 'make',\n",
              " 'predictions',\n",
              " 'or',\n",
              " 'decisions',\n",
              " 'without',\n",
              " 'being',\n",
              " 'explicitly',\n",
              " 'programmed',\n",
              " 'to',\n",
              " 'perform',\n",
              " 'the',\n",
              " 'task.[1][2]:2',\n",
              " 'Machine',\n",
              " 'learning',\n",
              " 'algorithms',\n",
              " 'are',\n",
              " 'used',\n",
              " 'in',\n",
              " 'a',\n",
              " 'wide',\n",
              " 'variety',\n",
              " 'of',\n",
              " 'applications,',\n",
              " 'such',\n",
              " 'as',\n",
              " 'email',\n",
              " 'filtering,',\n",
              " 'and',\n",
              " 'computer',\n",
              " 'vision,',\n",
              " 'where',\n",
              " 'it',\n",
              " 'is',\n",
              " 'infeasible',\n",
              " 'to',\n",
              " 'develop',\n",
              " 'an',\n",
              " 'algorithm',\n",
              " 'of',\n",
              " 'specific',\n",
              " 'instructions',\n",
              " 'for',\n",
              " 'performing',\n",
              " 'the',\n",
              " 'task.',\n",
              " 'Machine',\n",
              " 'learning',\n",
              " 'is',\n",
              " 'closely',\n",
              " 'related',\n",
              " 'to',\n",
              " 'computational',\n",
              " 'statistics,',\n",
              " 'which',\n",
              " 'focuses',\n",
              " 'on',\n",
              " 'making',\n",
              " 'predictions',\n",
              " 'using',\n",
              " 'computers.',\n",
              " 'The',\n",
              " 'study',\n",
              " 'of',\n",
              " 'mathematical',\n",
              " 'optimization',\n",
              " 'delivers',\n",
              " 'methods,',\n",
              " 'theory',\n",
              " 'and',\n",
              " 'application',\n",
              " 'domains',\n",
              " 'to',\n",
              " 'the',\n",
              " 'field',\n",
              " 'of',\n",
              " 'machine',\n",
              " 'learning.',\n",
              " 'Data',\n",
              " 'mining',\n",
              " 'is',\n",
              " 'a',\n",
              " 'field',\n",
              " 'of',\n",
              " 'study',\n",
              " 'within',\n",
              " 'machine',\n",
              " 'learning,',\n",
              " 'and',\n",
              " 'focuses',\n",
              " 'on',\n",
              " 'exploratory',\n",
              " 'data',\n",
              " 'analysis',\n",
              " 'through',\n",
              " 'unsupervised',\n",
              " 'learning.[3][4]',\n",
              " 'In',\n",
              " 'its',\n",
              " 'application',\n",
              " 'across',\n",
              " 'business',\n",
              " 'problems,',\n",
              " 'machine',\n",
              " 'learning',\n",
              " 'is',\n",
              " 'also',\n",
              " 'referred',\n",
              " 'to',\n",
              " 'as',\n",
              " 'predictive',\n",
              " 'analytics']"
            ]
          },
          "metadata": {
            "tags": []
          },
          "execution_count": 3
        }
      ]
    },
    {
      "cell_type": "code",
      "metadata": {
        "id": "EKB_8FFSyoXi",
        "colab_type": "code",
        "colab": {}
      },
      "source": [
        "n=len(lis)\n",
        "lt=[]"
      ],
      "execution_count": 0,
      "outputs": []
    },
    {
      "cell_type": "code",
      "metadata": {
        "id": "k7HdeRpUy6Fn",
        "colab_type": "code",
        "outputId": "d3c8ff93-6714-4321-fcd9-3cadc5b4df54",
        "colab": {
          "base_uri": "https://localhost:8080/",
          "height": 1928
        }
      },
      "source": [
        "for i in lis:\n",
        "   if lis.count(i) == 2 :\n",
        "           lt.append(i)\n",
        "\n",
        "lt              "
      ],
      "execution_count": 0,
      "outputs": [
        {
          "output_type": "execute_result",
          "data": {
            "text/plain": [
              "['computer',\n",
              " 'order',\n",
              " 'perform',\n",
              " 'specific',\n",
              " 'without',\n",
              " 'using',\n",
              " 'mathematical',\n",
              " 'order',\n",
              " 'predictions',\n",
              " 'without',\n",
              " 'perform',\n",
              " 'computer',\n",
              " 'specific',\n",
              " 'focuses',\n",
              " 'predictions',\n",
              " 'using',\n",
              " 'mathematical',\n",
              " 'application',\n",
              " 'field',\n",
              " 'field',\n",
              " 'focuses',\n",
              " 'application',\n",
              " 'computer',\n",
              " 'order',\n",
              " 'perform',\n",
              " 'specific',\n",
              " 'without',\n",
              " 'using',\n",
              " 'mathematical',\n",
              " 'order',\n",
              " 'predictions',\n",
              " 'without',\n",
              " 'perform',\n",
              " 'computer',\n",
              " 'specific',\n",
              " 'focuses',\n",
              " 'predictions',\n",
              " 'using',\n",
              " 'mathematical',\n",
              " 'application',\n",
              " 'field',\n",
              " 'field',\n",
              " 'focuses',\n",
              " 'application',\n",
              " 'computer',\n",
              " 'order',\n",
              " 'perform',\n",
              " 'specific',\n",
              " 'without',\n",
              " 'using',\n",
              " 'mathematical',\n",
              " 'order',\n",
              " 'predictions',\n",
              " 'without',\n",
              " 'perform',\n",
              " 'computer',\n",
              " 'specific',\n",
              " 'focuses',\n",
              " 'predictions',\n",
              " 'using',\n",
              " 'mathematical',\n",
              " 'application',\n",
              " 'field',\n",
              " 'field',\n",
              " 'focuses',\n",
              " 'application',\n",
              " 'computer',\n",
              " 'order',\n",
              " 'perform',\n",
              " 'specific',\n",
              " 'without',\n",
              " 'using',\n",
              " 'mathematical',\n",
              " 'order',\n",
              " 'predictions',\n",
              " 'without',\n",
              " 'perform',\n",
              " 'computer',\n",
              " 'specific',\n",
              " 'focuses',\n",
              " 'predictions',\n",
              " 'using',\n",
              " 'mathematical',\n",
              " 'application',\n",
              " 'field',\n",
              " 'field',\n",
              " 'focuses',\n",
              " 'application',\n",
              " 'computer',\n",
              " 'order',\n",
              " 'perform',\n",
              " 'specific',\n",
              " 'without',\n",
              " 'using',\n",
              " 'mathematical',\n",
              " 'order',\n",
              " 'predictions',\n",
              " 'without',\n",
              " 'perform',\n",
              " 'computer',\n",
              " 'specific',\n",
              " 'focuses',\n",
              " 'predictions',\n",
              " 'using',\n",
              " 'mathematical',\n",
              " 'application',\n",
              " 'field',\n",
              " 'field',\n",
              " 'focuses',\n",
              " 'application']"
            ]
          },
          "metadata": {
            "tags": []
          },
          "execution_count": 20
        }
      ]
    },
    {
      "cell_type": "code",
      "metadata": {
        "id": "qoEZG4Et0AV7",
        "colab_type": "code",
        "colab": {}
      },
      "source": [
        "for i in lt :\n",
        "  dict[i]=lis.count(i)"
      ],
      "execution_count": 0,
      "outputs": []
    },
    {
      "cell_type": "code",
      "metadata": {
        "id": "JblHINJjxqFP",
        "colab_type": "code",
        "outputId": "3d77c14a-7bd5-4542-a283-54e16472f5b8",
        "colab": {
          "base_uri": "https://localhost:8080/",
          "height": 208
        }
      },
      "source": [
        "dict\n"
      ],
      "execution_count": 0,
      "outputs": [
        {
          "output_type": "execute_result",
          "data": {
            "text/plain": [
              "{'application': 2,\n",
              " 'computer': 2,\n",
              " 'field': 2,\n",
              " 'focuses': 2,\n",
              " 'mathematical': 2,\n",
              " 'order': 2,\n",
              " 'perform': 2,\n",
              " 'predictions': 2,\n",
              " 'specific': 2,\n",
              " 'using': 2,\n",
              " 'without': 2}"
            ]
          },
          "metadata": {
            "tags": []
          },
          "execution_count": 28
        }
      ]
    },
    {
      "cell_type": "code",
      "metadata": {
        "id": "67ugnnIqxsrn",
        "colab_type": "code",
        "colab": {}
      },
      "source": [
        "val=[]\n",
        "valc=[]\n",
        "for i in dict:\n",
        " val.append(dict[i])\n",
        " valc.append(i)\n"
      ],
      "execution_count": 0,
      "outputs": []
    },
    {
      "cell_type": "code",
      "metadata": {
        "id": "9YDJhP-Z2wO3",
        "colab_type": "code",
        "outputId": "f93c1fa6-e924-47c1-a9da-7fd1adf27427",
        "colab": {
          "base_uri": "https://localhost:8080/",
          "height": 208
        }
      },
      "source": [
        "val\n",
        "valc"
      ],
      "execution_count": 0,
      "outputs": [
        {
          "output_type": "execute_result",
          "data": {
            "text/plain": [
              "['computer',\n",
              " 'order',\n",
              " 'perform',\n",
              " 'specific',\n",
              " 'without',\n",
              " 'using',\n",
              " 'mathematical',\n",
              " 'predictions',\n",
              " 'focuses',\n",
              " 'application',\n",
              " 'field']"
            ]
          },
          "metadata": {
            "tags": []
          },
          "execution_count": 32
        }
      ]
    },
    {
      "cell_type": "code",
      "metadata": {
        "id": "rxtETtfC2x0l",
        "colab_type": "code",
        "outputId": "2cb2ff8c-25a3-4546-fbb5-a4679e5842b8",
        "colab": {
          "base_uri": "https://localhost:8080/",
          "height": 637
        }
      },
      "source": [
        "plt.pie(val,labels=valc)"
      ],
      "execution_count": 0,
      "outputs": [
        {
          "output_type": "execute_result",
          "data": {
            "text/plain": [
              "([<matplotlib.patches.Wedge at 0x7f6d8c0adb70>,\n",
              "  <matplotlib.patches.Wedge at 0x7f6d8c03f080>,\n",
              "  <matplotlib.patches.Wedge at 0x7f6d8c03f550>,\n",
              "  <matplotlib.patches.Wedge at 0x7f6d8c03fa20>,\n",
              "  <matplotlib.patches.Wedge at 0x7f6d8c03fef0>,\n",
              "  <matplotlib.patches.Wedge at 0x7f6d8c047400>,\n",
              "  <matplotlib.patches.Wedge at 0x7f6d8c0478d0>,\n",
              "  <matplotlib.patches.Wedge at 0x7f6d8c047da0>,\n",
              "  <matplotlib.patches.Wedge at 0x7f6d8c0512b0>,\n",
              "  <matplotlib.patches.Wedge at 0x7f6d8c051780>,\n",
              "  <matplotlib.patches.Wedge at 0x7f6d8c07f898>],\n",
              " [Text(1.0554422683381766, 0.30990582150899426, 'computer'),\n",
              "  Text(0.7203467861122989, 0.8313245501834299, 'order'),\n",
              "  Text(0.15654627576372776, 1.0888035927312634, 'perform'),\n",
              "  Text(-0.45695657391819977, 1.0005951676641962, 'specific'),\n",
              "  Text(-0.9253789316708985, 0.5947048283136995, 'without'),\n",
              "  Text(-1.0999999999999954, -1.0298943258065002e-07, 'using'),\n",
              "  Text(-0.9253788203103135, -0.5947050015941457, 'mathematical'),\n",
              "  Text(-0.456956386553231, -1.0005952532309026, 'predictions'),\n",
              "  Text(0.15654647964602333, -1.0888035634174043, 'focuses'),\n",
              "  Text(0.7203469417807291, -0.8313244152959488, 'application'),\n",
              "  Text(1.0554423263691122, -0.30990562387371495, 'field')])"
            ]
          },
          "metadata": {
            "tags": []
          },
          "execution_count": 35
        },
        {
          "output_type": "display_data",
          "data": {
            "image/png": "[encoded data removed]",
            "text/plain": [
              "<Figure size 432x288 with 1 Axes>"
            ]
          },
          "metadata": {
            "tags": []
          }
        }
      ]
    },
    {
      "cell_type": "code",
      "metadata": {
        "id": "QRoU3qPr4Osa",
        "colab_type": "code",
        "outputId": "39c7ef6b-14d1-494d-89bd-5ed6a055915e",
        "colab": {
          "base_uri": "https://localhost:8080/",
          "height": 286
        }
      },
      "source": [
        "plt.bar(val,valc)"
      ],
      "execution_count": 0,
      "outputs": [
        {
          "output_type": "execute_result",
          "data": {
            "text/plain": [
              "<BarContainer object of 11 artists>"
            ]
          },
          "metadata": {
            "tags": []
          },
          "execution_count": 36
        },
        {
          "output_type": "display_data",
          "data": {
            "image/png": "[encoded data removed]",
            "text/plain": [
              "<Figure size 432x288 with 1 Axes>"
            ]
          },
          "metadata": {
            "tags": []
          }
        }
      ]
    },
    {
      "cell_type": "code",
      "metadata": {
        "id": "YQx7onwB5ZrG",
        "colab_type": "code",
        "colab": {}
      },
      "source": [
        "lc=[]\n",
        "lv=[]\n",
        "for i in lis:\n",
        "   if lis.count(i) > 3 :\n",
        "           lc.append(i)\n",
        "           lv.append(lis.count(i))\n"
      ],
      "execution_count": 0,
      "outputs": []
    },
    {
      "cell_type": "code",
      "metadata": {
        "id": "1N60oLrx6PxX",
        "colab_type": "code",
        "outputId": "6d85c7ec-cf59-4780-d26f-aa57bc642bc0",
        "colab": {
          "base_uri": "https://localhost:8080/",
          "height": 903
        }
      },
      "source": [
        "\n",
        "lv"
      ],
      "execution_count": 0,
      "outputs": [
        {
          "output_type": "execute_result",
          "data": {
            "text/plain": [
              "[4,\n",
              " 5,\n",
              " 6,\n",
              " 4,\n",
              " 7,\n",
              " 5,\n",
              " 7,\n",
              " 5,\n",
              " 4,\n",
              " 5,\n",
              " 6,\n",
              " 4,\n",
              " 5,\n",
              " 7,\n",
              " 4,\n",
              " 5,\n",
              " 5,\n",
              " 4,\n",
              " 4,\n",
              " 7,\n",
              " 7,\n",
              " 4,\n",
              " 4,\n",
              " 5,\n",
              " 5,\n",
              " 7,\n",
              " 4,\n",
              " 5,\n",
              " 6,\n",
              " 7,\n",
              " 7,\n",
              " 4,\n",
              " 4,\n",
              " 5,\n",
              " 6,\n",
              " 7,\n",
              " 4,\n",
              " 7,\n",
              " 5,\n",
              " 7,\n",
              " 4,\n",
              " 7,\n",
              " 6,\n",
              " 5,\n",
              " 7,\n",
              " 5,\n",
              " 4,\n",
              " 5,\n",
              " 6,\n",
              " 7,\n",
              " 4]"
            ]
          },
          "metadata": {
            "tags": []
          },
          "execution_count": 40
        }
      ]
    },
    {
      "cell_type": "code",
      "metadata": {
        "id": "lrHJ-t3m6ZCE",
        "colab_type": "code",
        "outputId": "caf1b4c4-4a65-42a7-e839-b1affd854ada",
        "colab": {
          "base_uri": "https://localhost:8080/",
          "height": 903
        }
      },
      "source": [
        "lc"
      ],
      "execution_count": 0,
      "outputs": [
        {
          "output_type": "execute_result",
          "data": {
            "text/plain": [
              "['Machine',\n",
              " 'learning',\n",
              " 'is',\n",
              " 'the',\n",
              " 'of',\n",
              " 'and',\n",
              " 'to',\n",
              " 'a',\n",
              " 'on',\n",
              " 'and',\n",
              " 'is',\n",
              " 'as',\n",
              " 'a',\n",
              " 'of',\n",
              " 'Machine',\n",
              " 'learning',\n",
              " 'a',\n",
              " 'on',\n",
              " 'as',\n",
              " 'to',\n",
              " 'to',\n",
              " 'the',\n",
              " 'Machine',\n",
              " 'learning',\n",
              " 'a',\n",
              " 'of',\n",
              " 'as',\n",
              " 'and',\n",
              " 'is',\n",
              " 'to',\n",
              " 'of',\n",
              " 'the',\n",
              " 'Machine',\n",
              " 'learning',\n",
              " 'is',\n",
              " 'to',\n",
              " 'on',\n",
              " 'of',\n",
              " 'and',\n",
              " 'to',\n",
              " 'the',\n",
              " 'of',\n",
              " 'is',\n",
              " 'a',\n",
              " 'of',\n",
              " 'and',\n",
              " 'on',\n",
              " 'learning',\n",
              " 'is',\n",
              " 'to',\n",
              " 'as']"
            ]
          },
          "metadata": {
            "tags": []
          },
          "execution_count": 41
        }
      ]
    },
    {
      "cell_type": "code",
      "metadata": {
        "id": "zVfUb6Tw6hYX",
        "colab_type": "code",
        "outputId": "056e5628-466b-446e-e7da-a2801eb950ae",
        "colab": {
          "base_uri": "https://localhost:8080/",
          "height": 286
        }
      },
      "source": [
        "plt.scatter(lc,lv)"
      ],
      "execution_count": 0,
      "outputs": [
        {
          "output_type": "execute_result",
          "data": {
            "text/plain": [
              "<matplotlib.collections.PathCollection at 0x7f6d8974e0f0>"
            ]
          },
          "metadata": {
            "tags": []
          },
          "execution_count": 42
        },
        {
          "output_type": "display_data",
          "data": {
            "image/png": "[encoded data removed]",
            "text/plain": [
              "<Figure size 432x288 with 1 Axes>"
            ]
          },
          "metadata": {
            "tags": []
          }
        }
      ]
    },
    {
      "cell_type": "code",
      "metadata": {
        "id": "g6Y5OhfB6tX4",
        "colab_type": "code",
        "colab": {}
      },
      "source": [
        ""
      ],
      "execution_count": 0,
      "outputs": []
    }
  ]
}